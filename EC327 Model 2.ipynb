{
 "cells": [
  {
   "cell_type": "code",
   "execution_count": 17,
   "id": "65ea2977",
   "metadata": {},
   "outputs": [],
   "source": [
    "import pandas as pd\n",
    "import numpy as np\n",
    "import os\n",
    "import PIL\n",
    "import tensorflow as tf\n",
    "from tensorflow import keras\n",
    "from tensorflow.keras.models import Sequential, Model\n",
    "from  matplotlib import pyplot as plt\n",
    "import matplotlib.image as mpimg\n",
    "from keras_preprocessing.image import ImageDataGenerator\n",
    "from tensorflow.keras import layers \n",
    "import PIL.Image as Image\n",
    "%matplotlib inline"
   ]
  },
  {
   "cell_type": "code",
   "execution_count": 18,
   "id": "833ffff0",
   "metadata": {},
   "outputs": [],
   "source": [
    "Animaldir = \"raw-img\" #Image local directories\n",
    "Test_Animal_dir = 'raw2-img'"
   ]
  },
  {
   "cell_type": "code",
   "execution_count": 19,
   "id": "9625e602",
   "metadata": {},
   "outputs": [
    {
     "name": "stdout",
     "output_type": "stream",
     "text": [
      "Found 18686 files belonging to 10 classes.\n",
      "Using 14949 files for training.\n",
      "Found 18686 files belonging to 10 classes.\n",
      "Using 3737 files for validation.\n"
     ]
    }
   ],
   "source": [
    "batch_size = 32 #Imports image from local directory at our prefered size\n",
    "img_height = 192\n",
    "img_width = 192\n",
    "img_size = (192,192)\n",
    "\n",
    "train_animals = tf.keras.utils.image_dataset_from_directory(\n",
    "  Animaldir,\n",
    "  validation_split=0.2,\n",
    "  label_mode='int',\n",
    "  labels = 'inferred',\n",
    "  class_names = None,\n",
    "  color_mode = 'rgb',\n",
    "  subset=\"training\",\n",
    "  shuffle = True,\n",
    "  seed = 123,\n",
    "  image_size=img_size,\n",
    "  batch_size=batch_size)\n",
    "\n",
    "val_animals = tf.keras.utils.image_dataset_from_directory(\n",
    "  Animaldir,\n",
    "  validation_split=0.2,\n",
    "  label_mode='int',\n",
    "  labels = 'inferred',\n",
    "  class_names = None,\n",
    "  color_mode = 'rgb',\n",
    "  shuffle = True,\n",
    "  seed = 123,\n",
    "  subset=\"validation\",\n",
    "  image_size=img_size,\n",
    "  batch_size=batch_size)\n"
   ]
  },
  {
   "cell_type": "code",
   "execution_count": 20,
   "id": "2ba81d96",
   "metadata": {},
   "outputs": [],
   "source": [
    "class_names = np.array(train_animals.class_names) #Gets the array of class names\n",
    "num_classes = len(class_names)"
   ]
  },
  {
   "cell_type": "code",
   "execution_count": 21,
   "id": "7fffae21",
   "metadata": {},
   "outputs": [
    {
     "name": "stdout",
     "output_type": "stream",
     "text": [
      "Model: \"sequential_2\"\n",
      "_________________________________________________________________\n",
      " Layer (type)                Output Shape              Param #   \n",
      "=================================================================\n",
      " rescaling_3 (Rescaling)     (None, 192, 192, 3)       0         \n",
      "                                                                 \n",
      " conv2d_9 (Conv2D)           (None, 192, 192, 16)      448       \n",
      "                                                                 \n",
      " max_pooling2d_9 (MaxPooling  (None, 96, 96, 16)       0         \n",
      " 2D)                                                             \n",
      "                                                                 \n",
      " conv2d_10 (Conv2D)          (None, 96, 96, 32)        4640      \n",
      "                                                                 \n",
      " max_pooling2d_10 (MaxPoolin  (None, 48, 48, 32)       0         \n",
      " g2D)                                                            \n",
      "                                                                 \n",
      " conv2d_11 (Conv2D)          (None, 48, 48, 64)        18496     \n",
      "                                                                 \n",
      " max_pooling2d_11 (MaxPoolin  (None, 24, 24, 64)       0         \n",
      " g2D)                                                            \n",
      "                                                                 \n",
      " flatten_3 (Flatten)         (None, 36864)             0         \n",
      "                                                                 \n",
      " dense_5 (Dense)             (None, 128)               4718720   \n",
      "                                                                 \n",
      " dense_6 (Dense)             (None, 10)                1290      \n",
      "                                                                 \n",
      "=================================================================\n",
      "Total params: 4,743,594\n",
      "Trainable params: 4,743,594\n",
      "Non-trainable params: 0\n",
      "_________________________________________________________________\n"
     ]
    }
   ],
   "source": [
    "model_overfit = Sequential([\n",
    "  layers.Rescaling(1./255, input_shape=(img_height, img_width, 3)), #Our second model will take you even longer around 10 min\n",
    "  layers.Conv2D(16, 3, padding='same', activation='relu'), #This just adds 2 extra hidden layers will larger filter sizes\n",
    "  layers.MaxPooling2D(),\n",
    "  layers.Conv2D(32, 3, padding='same', activation='relu'),\n",
    "  layers.MaxPooling2D(),\n",
    "  layers.Conv2D(64, 3, padding='same', activation='relu'),\n",
    "  layers.MaxPooling2D(),\n",
    "  layers.Flatten(),\n",
    "  layers.Dense(128, activation='relu'),\n",
    "  layers.Dense(num_classes)\n",
    "])\n",
    "\n",
    "model_overfit.compile(optimizer='adam',\n",
    "              loss=tf.keras.losses.SparseCategoricalCrossentropy(from_logits=True),\n",
    "              metrics=['accuracy'])\n",
    "\n",
    "model_overfit.summary()"
   ]
  },
  {
   "cell_type": "code",
   "execution_count": 22,
   "id": "bfd7f5b0",
   "metadata": {},
   "outputs": [
    {
     "name": "stdout",
     "output_type": "stream",
     "text": [
      "Epoch 1/10\n",
      "468/468 [==============================] - 131s 280ms/step - loss: 1.9031 - accuracy: 0.3194 - val_loss: 1.6415 - val_accuracy: 0.4255\n",
      "Epoch 2/10\n",
      "468/468 [==============================] - 133s 283ms/step - loss: 1.3664 - accuracy: 0.5327 - val_loss: 1.3593 - val_accuracy: 0.5339\n",
      "Epoch 3/10\n",
      "468/468 [==============================] - 133s 285ms/step - loss: 1.0075 - accuracy: 0.6584 - val_loss: 1.3607 - val_accuracy: 0.5729\n",
      "Epoch 4/10\n",
      "468/468 [==============================] - 134s 286ms/step - loss: 0.6508 - accuracy: 0.7813 - val_loss: 1.5657 - val_accuracy: 0.5550\n",
      "Epoch 5/10\n",
      "468/468 [==============================] - 135s 288ms/step - loss: 0.3784 - accuracy: 0.8754 - val_loss: 1.8676 - val_accuracy: 0.5692\n",
      "Epoch 6/10\n",
      "468/468 [==============================] - 134s 286ms/step - loss: 0.2074 - accuracy: 0.9328 - val_loss: 2.4176 - val_accuracy: 0.5427\n",
      "Epoch 7/10\n",
      "468/468 [==============================] - 135s 289ms/step - loss: 0.1367 - accuracy: 0.9576 - val_loss: 2.4518 - val_accuracy: 0.5628\n",
      "Epoch 8/10\n",
      "468/468 [==============================] - 135s 288ms/step - loss: 0.1006 - accuracy: 0.9692 - val_loss: 2.8448 - val_accuracy: 0.5652\n",
      "Epoch 9/10\n",
      "468/468 [==============================] - 136s 290ms/step - loss: 0.0972 - accuracy: 0.9703 - val_loss: 3.0119 - val_accuracy: 0.5628\n",
      "Epoch 10/10\n",
      "468/468 [==============================] - 136s 290ms/step - loss: 0.0731 - accuracy: 0.9787 - val_loss: 3.2259 - val_accuracy: 0.5609\n"
     ]
    }
   ],
   "source": [
    "results_2 = model_overfit.fit(train_animals, #This will take you 10 minutes to run, may be more depending on processing speed\n",
    "                    epochs=10,\n",
    "                    validation_data=val_animals)"
   ]
  },
  {
   "cell_type": "code",
   "execution_count": 23,
   "id": "94dbb78c",
   "metadata": {},
   "outputs": [
    {
     "data": {
      "image/png": "[encoded data removed]",
      "text/plain": [
       "<Figure size 576x576 with 2 Axes>"
      ]
     },
     "metadata": {
      "needs_background": "light"
     },
     "output_type": "display_data"
    }
   ],
   "source": [
    "acc = results_2.history['accuracy'] #Plots performance\n",
    "val_acc = results_2.history['val_accuracy']\n",
    "\n",
    "loss = results_2.history['loss']\n",
    "val_loss = results_2.history['val_loss']\n",
    "\n",
    "epochs_range = range(10)\n",
    "\n",
    "plt.figure(figsize=(8, 8))\n",
    "plt.subplot(1, 2, 1)\n",
    "plt.plot(epochs_range, acc, label='Training Accuracy')\n",
    "plt.plot(epochs_range, val_acc, label='Validation Accuracy')\n",
    "plt.legend(loc='lower right')\n",
    "plt.title('Training and Validation Accuracy')\n",
    "\n",
    "plt.subplot(1, 2, 2)\n",
    "plt.plot(epochs_range, loss, label='Training Loss')\n",
    "plt.plot(epochs_range, val_loss, label='Validation Loss')\n",
    "plt.legend(loc='upper right')\n",
    "plt.title('Training and Validation Loss')\n",
    "plt.show()"
   ]
  },
  {
   "cell_type": "code",
   "execution_count": null,
   "id": "0ae7bbdd",
   "metadata": {},
   "outputs": [],
   "source": []
  }
 ],
 "metadata": {
  "kernelspec": {
   "display_name": "Python 3 (ipykernel)",
   "language": "python",
   "name": "python3"
  },
  "language_info": {
   "codemirror_mode": {
    "name": "ipython",
    "version": 3
   },
   "file_extension": ".py",
   "mimetype": "text/x-python",
   "name": "python",
   "nbconvert_exporter": "python",
   "pygments_lexer": "ipython3",
   "version": "3.9.7"
  }
 },
 "nbformat": 4,
 "nbformat_minor": 5
}
